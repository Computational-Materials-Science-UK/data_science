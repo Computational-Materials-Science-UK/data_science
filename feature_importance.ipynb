{
 "cells": [
  {
   "cell_type": "markdown",
   "metadata": {
    "cell_id": "dd50413d61c842f991d229c2c75b7824",
    "deepnote_cell_height": 108.390625,
    "deepnote_cell_type": "markdown",
    "tags": []
   },
   "source": [
    "#### Reading data \n",
    "Naji sent me a text file That I processed with python codes to generate dataframes\n"
   ]
  },
  {
   "cell_type": "code",
   "execution_count": 1,
   "metadata": {
    "cell_id": "92fae002-172a-4b8b-a7e6-a93a803c976d",
    "deepnote_cell_height": 189,
    "deepnote_cell_type": "code",
    "deepnote_output_heights": [
     40.375
    ],
    "deepnote_to_be_reexecuted": false,
    "execution_millis": 1,
    "execution_start": 1649416685100,
    "owner_user_id": "dc3e8735-4e9e-44bb-b4ce-88fb30ada453",
    "source_hash": "7f3605b1",
    "tags": []
   },
   "outputs": [],
   "source": [
    "#!/bin/python\n",
    "#\n",
    "import re\n",
    "\n",
    "structure_text_file='structures.txt'\n",
    "samples=dict()\n",
    "\n",
    "with open(structure_text_file,'r') as fh:\n",
    "    lines =fh.readlines()    \n",
    "\n",
    "# another comment "
   ]
  },
  {
   "cell_type": "markdown",
   "metadata": {
    "cell_id": "2513629b09e348d38ca4939c51a020e3",
    "deepnote_cell_height": 108.390625,
    "deepnote_cell_type": "markdown",
    "tags": []
   },
   "source": [
    "#### Creating Python Dictionary\n",
    "from data already read off the text file"
   ]
  },
  {
   "cell_type": "code",
   "execution_count": 2,
   "metadata": {
    "cell_id": "e6b84cb669ce44eab4e76b5c9fc39b1f",
    "deepnote_cell_height": 333,
    "deepnote_cell_type": "code",
    "deepnote_to_be_reexecuted": false,
    "execution_millis": 42,
    "execution_start": 1649416685102,
    "source_hash": "2ab408a9",
    "tags": []
   },
   "outputs": [],
   "source": [
    "name=''\n",
    "count=0\n",
    "for line in lines:\n",
    "    \n",
    "    if line.startswith('/'):\n",
    "        count=count+1\n",
    "        name=line.split('/')[-1].strip().split('.')[0].strip()\n",
    "        samples[count]=dict()\n",
    "        samples[count]['name']=name\n",
    "        \n",
    "    else:\n",
    "        key,value=line.split(\"=\")\n",
    "        samples[count][key]=value.strip()\n",
    "        \n",
    "        "
   ]
  },
  {
   "cell_type": "markdown",
   "metadata": {
    "cell_id": "1581ebdd82fc442d9a545950b66dfcd4",
    "deepnote_cell_height": 147.78125,
    "deepnote_cell_type": "markdown",
    "tags": []
   },
   "source": [
    "##  Data preprocessing\n",
    "1. Removing likely unrelated data.\n",
    "2. Re-ordering independent and result parameter"
   ]
  },
  {
   "cell_type": "code",
   "execution_count": 3,
   "metadata": {
    "cell_id": "ef3da586ec8c4cbea60ecea4bae96d2b",
    "deepnote_cell_height": 813,
    "deepnote_cell_type": "code",
    "deepnote_to_be_reexecuted": false,
    "execution_millis": 4634,
    "execution_start": 1649416685144,
    "source_hash": "fb36311b",
    "tags": []
   },
   "outputs": [
    {
     "data": {
      "text/html": [
       "<div>\n",
       "<style scoped>\n",
       "    .dataframe tbody tr th:only-of-type {\n",
       "        vertical-align: middle;\n",
       "    }\n",
       "\n",
       "    .dataframe tbody tr th {\n",
       "        vertical-align: top;\n",
       "    }\n",
       "\n",
       "    .dataframe thead th {\n",
       "        text-align: right;\n",
       "    }\n",
       "</style>\n",
       "<table border=\"1\" class=\"dataframe\">\n",
       "  <thead>\n",
       "    <tr style=\"text-align: right;\">\n",
       "      <th></th>\n",
       "      <th>Mesh volume</th>\n",
       "      <th>Rho</th>\n",
       "      <th>C11</th>\n",
       "      <th>C22</th>\n",
       "      <th>C33</th>\n",
       "      <th>C12</th>\n",
       "      <th>C13</th>\n",
       "      <th>C23</th>\n",
       "      <th>C44</th>\n",
       "      <th>C55</th>\n",
       "      <th>...</th>\n",
       "      <th>E1</th>\n",
       "      <th>E2</th>\n",
       "      <th>E3</th>\n",
       "      <th>nu12</th>\n",
       "      <th>nu13</th>\n",
       "      <th>nu23</th>\n",
       "      <th>mu23</th>\n",
       "      <th>mu13</th>\n",
       "      <th>mu12</th>\n",
       "      <th>id</th>\n",
       "    </tr>\n",
       "  </thead>\n",
       "  <tbody>\n",
       "    <tr>\n",
       "      <th>0</th>\n",
       "      <td>345322.7689798011</td>\n",
       "      <td>0.043165346122475134</td>\n",
       "      <td>0.11035552355957358</td>\n",
       "      <td>0.09331165897852606</td>\n",
       "      <td>0.09504280902015454</td>\n",
       "      <td>0.05278984171587961</td>\n",
       "      <td>0.052062701007787655</td>\n",
       "      <td>0.048629559682231656</td>\n",
       "      <td>0.8232323361468934</td>\n",
       "      <td>0.0473408834742925</td>\n",
       "      <td>...</td>\n",
       "      <td>0.0718423758865318</td>\n",
       "      <td>0.06007298897043067</td>\n",
       "      <td>0.06221081931295994</td>\n",
       "      <td>0.38216439715640765</td>\n",
       "      <td>0.3522435310255481</td>\n",
       "      <td>0.34859099707052454</td>\n",
       "      <td>0.8232323361468934</td>\n",
       "      <td>0.0473408834742925</td>\n",
       "      <td>0.04888035506201445</td>\n",
       "      <td>1</td>\n",
       "    </tr>\n",
       "    <tr>\n",
       "      <th>1</th>\n",
       "      <td>357365.46845682024</td>\n",
       "      <td>0.044670683557102527</td>\n",
       "      <td>0.10617143949810734</td>\n",
       "      <td>0.09918641985748405</td>\n",
       "      <td>0.10736234663811096</td>\n",
       "      <td>0.049312284638048584</td>\n",
       "      <td>0.05328893997978546</td>\n",
       "      <td>0.04614831561875709</td>\n",
       "      <td>0.08628384612909565</td>\n",
       "      <td>0.22490776562387066</td>\n",
       "      <td>...</td>\n",
       "      <td>0.07093383220596787</td>\n",
       "      <td>0.07060329226099511</td>\n",
       "      <td>0.07461367605320639</td>\n",
       "      <td>0.3327872571460019</td>\n",
       "      <td>0.3533023428685621</td>\n",
       "      <td>0.28050572845183924</td>\n",
       "      <td>0.08628384612909565</td>\n",
       "      <td>0.22490776562387066</td>\n",
       "      <td>0.39394490995706727</td>\n",
       "      <td>2</td>\n",
       "    </tr>\n",
       "    <tr>\n",
       "      <th>2</th>\n",
       "      <td>360372.69797348813</td>\n",
       "      <td>0.04504658724668602</td>\n",
       "      <td>0.07193354729955323</td>\n",
       "      <td>0.08929505164845775</td>\n",
       "      <td>0.07828078474646538</td>\n",
       "      <td>0.0458720520574417</td>\n",
       "      <td>0.0318038593428175</td>\n",
       "      <td>0.03450355632019318</td>\n",
       "      <td>0.03694857299425585</td>\n",
       "      <td>0.400647691389732</td>\n",
       "      <td>...</td>\n",
       "      <td>0.04531657511011215</td>\n",
       "      <td>0.05689272910555098</td>\n",
       "      <td>0.06085058599165685</td>\n",
       "      <td>0.42995339569785185</td>\n",
       "      <td>0.21677015878490621</td>\n",
       "      <td>0.23686955147974376</td>\n",
       "      <td>0.03694857299425585</td>\n",
       "      <td>0.400647691389732</td>\n",
       "      <td>0.4130484399163377</td>\n",
       "      <td>3</td>\n",
       "    </tr>\n",
       "    <tr>\n",
       "      <th>3</th>\n",
       "      <td>345322.7689798011</td>\n",
       "      <td>0.043165346122475134</td>\n",
       "      <td>0.11361766771302749</td>\n",
       "      <td>0.0938024670913367</td>\n",
       "      <td>0.0955587273541434</td>\n",
       "      <td>0.052272525096486507</td>\n",
       "      <td>0.05042781240763302</td>\n",
       "      <td>0.04772399864538084</td>\n",
       "      <td>0.8232323361468934</td>\n",
       "      <td>0.0473408834742925</td>\n",
       "      <td>...</td>\n",
       "      <td>0.0765192029683098</td>\n",
       "      <td>0.0615347949933416</td>\n",
       "      <td>0.06455512431582351</td>\n",
       "      <td>0.38714541089421395</td>\n",
       "      <td>0.3343670036975093</td>\n",
       "      <td>0.35157473622316593</td>\n",
       "      <td>0.8232323361468934</td>\n",
       "      <td>0.0473408834742925</td>\n",
       "      <td>0.04888035506201445</td>\n",
       "      <td>4</td>\n",
       "    </tr>\n",
       "    <tr>\n",
       "      <th>4</th>\n",
       "      <td>357365.46845682024</td>\n",
       "      <td>0.044670683557102527</td>\n",
       "      <td>0.10617143949810734</td>\n",
       "      <td>0.09918641985748405</td>\n",
       "      <td>0.10736234663811096</td>\n",
       "      <td>0.049312284638048584</td>\n",
       "      <td>0.05328893997978546</td>\n",
       "      <td>0.04614831561875709</td>\n",
       "      <td>0.08628384612909565</td>\n",
       "      <td>0.22490776562387066</td>\n",
       "      <td>...</td>\n",
       "      <td>0.07093383220596787</td>\n",
       "      <td>0.07060329226099511</td>\n",
       "      <td>0.07461367605320639</td>\n",
       "      <td>0.3327872571460019</td>\n",
       "      <td>0.3533023428685621</td>\n",
       "      <td>0.28050572845183924</td>\n",
       "      <td>0.08628384612909565</td>\n",
       "      <td>0.22490776562387066</td>\n",
       "      <td>0.39394490995706727</td>\n",
       "      <td>5</td>\n",
       "    </tr>\n",
       "  </tbody>\n",
       "</table>\n",
       "<p>5 rows × 21 columns</p>\n",
       "</div>"
      ],
      "text/plain": [
       "         Mesh volume                   Rho                  C11   \\\n",
       "0   345322.7689798011  0.043165346122475134  0.11035552355957358   \n",
       "1  357365.46845682024  0.044670683557102527  0.10617143949810734   \n",
       "2  360372.69797348813   0.04504658724668602  0.07193354729955323   \n",
       "3   345322.7689798011  0.043165346122475134  0.11361766771302749   \n",
       "4  357365.46845682024  0.044670683557102527  0.10617143949810734   \n",
       "\n",
       "                  C22                  C33                   C12   \\\n",
       "0  0.09331165897852606  0.09504280902015454   0.05278984171587961   \n",
       "1  0.09918641985748405  0.10736234663811096  0.049312284638048584   \n",
       "2  0.08929505164845775  0.07828078474646538    0.0458720520574417   \n",
       "3   0.0938024670913367   0.0955587273541434  0.052272525096486507   \n",
       "4  0.09918641985748405  0.10736234663811096  0.049312284638048584   \n",
       "\n",
       "                   C13                   C23                  C44   \\\n",
       "0  0.052062701007787655  0.048629559682231656   0.8232323361468934   \n",
       "1   0.05328893997978546   0.04614831561875709  0.08628384612909565   \n",
       "2    0.0318038593428175   0.03450355632019318  0.03694857299425585   \n",
       "3   0.05042781240763302   0.04772399864538084   0.8232323361468934   \n",
       "4   0.05328893997978546   0.04614831561875709  0.08628384612909565   \n",
       "\n",
       "                  C55   ...                  E1                   E2   \\\n",
       "0   0.0473408834742925  ...   0.0718423758865318  0.06007298897043067   \n",
       "1  0.22490776562387066  ...  0.07093383220596787  0.07060329226099511   \n",
       "2    0.400647691389732  ...  0.04531657511011215  0.05689272910555098   \n",
       "3   0.0473408834742925  ...   0.0765192029683098   0.0615347949933416   \n",
       "4  0.22490776562387066  ...  0.07093383220596787  0.07060329226099511   \n",
       "\n",
       "                   E3                 nu12                 nu13   \\\n",
       "0  0.06221081931295994  0.38216439715640765   0.3522435310255481   \n",
       "1  0.07461367605320639   0.3327872571460019   0.3533023428685621   \n",
       "2  0.06085058599165685  0.42995339569785185  0.21677015878490621   \n",
       "3  0.06455512431582351  0.38714541089421395   0.3343670036975093   \n",
       "4  0.07461367605320639   0.3327872571460019   0.3533023428685621   \n",
       "\n",
       "                 nu23                 mu23                 mu13   \\\n",
       "0  0.34859099707052454   0.8232323361468934   0.0473408834742925   \n",
       "1  0.28050572845183924  0.08628384612909565  0.22490776562387066   \n",
       "2  0.23686955147974376  0.03694857299425585    0.400647691389732   \n",
       "3  0.35157473622316593   0.8232323361468934   0.0473408834742925   \n",
       "4  0.28050572845183924  0.08628384612909565  0.22490776562387066   \n",
       "\n",
       "                 mu12  id  \n",
       "0  0.04888035506201445  1  \n",
       "1  0.39394490995706727  2  \n",
       "2   0.4130484399163377  3  \n",
       "3  0.04888035506201445  4  \n",
       "4  0.39394490995706727  5  \n",
       "\n",
       "[5 rows x 21 columns]"
      ]
     },
     "execution_count": 3,
     "metadata": {},
     "output_type": "execute_result"
    }
   ],
   "source": [
    "import pandas as pd\n",
    "import numpy as np\n",
    "import matplotlib.pyplot as plt\n",
    "from sklearn.model_selection import train_test_split\n",
    "from sklearn.preprocessing import StandardScaler\n",
    "from sklearn.ensemble import RandomForestRegressor\n",
    "from sklearn.linear_model import LinearRegression,LogisticRegression\n",
    "from sklearn.tree import DecisionTreeRegressor\n",
    "\n",
    "pd.set_option('display.max_columns', 20)\n",
    "pd.set_option('display.max_rows', 40)\n",
    "df1=pd.DataFrame.from_dict(samples,orient='index')\n",
    "df1.reset_index(drop=True, inplace=True)\n",
    "df1=df1.drop(['name','Box volume ','Strain ','Displacement (x & y) ','Displacement (z) '],axis=1) # removing  unrelated data\n",
    "df1['id'] = range(1, len(df1) + 1)\n",
    "df1.head()\n",
    "\n"
   ]
  },
  {
   "cell_type": "markdown",
   "metadata": {
    "cell_id": "b55658693adf461fb7695ec75ba99c52",
    "deepnote_cell_height": 70,
    "deepnote_cell_type": "markdown",
    "tags": []
   },
   "source": [
    "#### Aspect Ratio Data from xlsx\n",
    "\n",
    "reading the text file AR_per_structure.xlsx sent by Naji\n"
   ]
  },
  {
   "cell_type": "code",
   "execution_count": 4,
   "metadata": {
    "cell_id": "e4997ae17f5742dc9990c302cff40172",
    "deepnote_cell_height": 866,
    "deepnote_cell_type": "code",
    "deepnote_table_loading": false,
    "deepnote_table_state": {
     "filters": [],
     "pageIndex": 0,
     "pageSize": 10,
     "sortBy": []
    },
    "deepnote_to_be_reexecuted": false,
    "execution_millis": 7415,
    "execution_start": 1649416689201,
    "source_hash": "bc2dd899",
    "tags": []
   },
   "outputs": [
    {
     "data": {
      "text/html": [
       "<div>\n",
       "<style scoped>\n",
       "    .dataframe tbody tr th:only-of-type {\n",
       "        vertical-align: middle;\n",
       "    }\n",
       "\n",
       "    .dataframe tbody tr th {\n",
       "        vertical-align: top;\n",
       "    }\n",
       "\n",
       "    .dataframe thead th {\n",
       "        text-align: right;\n",
       "    }\n",
       "</style>\n",
       "<table border=\"1\" class=\"dataframe\">\n",
       "  <thead>\n",
       "    <tr style=\"text-align: right;\">\n",
       "      <th></th>\n",
       "      <th>a</th>\n",
       "      <th>b</th>\n",
       "      <th>AR</th>\n",
       "      <th>id</th>\n",
       "    </tr>\n",
       "  </thead>\n",
       "  <tbody>\n",
       "    <tr>\n",
       "      <th>0</th>\n",
       "      <td>13.840443</td>\n",
       "      <td>0.241912</td>\n",
       "      <td>3.348169</td>\n",
       "      <td>1</td>\n",
       "    </tr>\n",
       "    <tr>\n",
       "      <th>1</th>\n",
       "      <td>14.079122</td>\n",
       "      <td>0.235956</td>\n",
       "      <td>3.322047</td>\n",
       "      <td>2</td>\n",
       "    </tr>\n",
       "    <tr>\n",
       "      <th>2</th>\n",
       "      <td>13.869349</td>\n",
       "      <td>0.244432</td>\n",
       "      <td>3.390113</td>\n",
       "      <td>3</td>\n",
       "    </tr>\n",
       "    <tr>\n",
       "      <th>3</th>\n",
       "      <td>15.818883</td>\n",
       "      <td>0.21378</td>\n",
       "      <td>3.381758</td>\n",
       "      <td>4</td>\n",
       "    </tr>\n",
       "    <tr>\n",
       "      <th>4</th>\n",
       "      <td>13.677275</td>\n",
       "      <td>0.244578</td>\n",
       "      <td>3.345158</td>\n",
       "      <td>5</td>\n",
       "    </tr>\n",
       "  </tbody>\n",
       "</table>\n",
       "</div>"
      ],
      "text/plain": [
       "           a         b        AR  id\n",
       "0  13.840443  0.241912  3.348169   1\n",
       "1  14.079122  0.235956  3.322047   2\n",
       "2  13.869349  0.244432  3.390113   3\n",
       "3  15.818883   0.21378  3.381758   4\n",
       "4  13.677275  0.244578  3.345158   5"
      ]
     },
     "execution_count": 4,
     "metadata": {},
     "output_type": "execute_result"
    }
   ],
   "source": [
    "# ! pip install openpyxl\n",
    "df2=pd.read_excel('AR_per_structure.xlsx')\n",
    "df2=df2.dropna(axis=1,how='all')\n",
    "df2=df2.dropna(axis=0,how='all')\n",
    "df2.columns = df2.iloc[0]\n",
    "df2 = df2[1:]\n",
    "df2['id'] = range(1, len(df2) + 1)\n",
    "df2 = df2.loc[:, df2.columns.notna()]\n",
    "df2.reset_index(drop=True, inplace=True)\n",
    "df2 = df2.rename_axis(None, axis=1)\n",
    "df2.head()\n",
    "\n"
   ]
  },
  {
   "cell_type": "markdown",
   "metadata": {
    "cell_id": "b48ded115fbb4abe8f8d60e2e76f85e4",
    "deepnote_cell_height": 110,
    "deepnote_cell_type": "markdown",
    "tags": []
   },
   "source": [
    "## Creating the dataframe for analysis from originals "
   ]
  },
  {
   "cell_type": "code",
   "execution_count": 5,
   "metadata": {
    "cell_id": "40898f5fcfc94ff8b37a7fedf2f3f5c7",
    "deepnote_cell_height": 153,
    "deepnote_cell_type": "code",
    "deepnote_to_be_reexecuted": false,
    "execution_millis": 4237723,
    "execution_start": 1649416696649,
    "source_hash": "8f75af8a",
    "tags": []
   },
   "outputs": [
    {
     "data": {
      "text/plain": [
       "Index(['Mesh volume ', 'Rho ', 'C11 ', 'E1 ', 'E2 ', 'a', 'b', 'AR', 'id'], dtype='object')"
      ]
     },
     "execution_count": 5,
     "metadata": {},
     "output_type": "execute_result"
    }
   ],
   "source": [
    "# df = df1[['Mesh volume ', 'Rho ', 'C11 ', 'C22 ', 'C33 ', 'C12 ', 'C13 ', 'C23 ', 'C44 ', 'C55 ', 'C66 ', 'nu12 ', 'nu13 ', 'nu23 ','mu23 ', 'mu13 ', 'mu12 ', 'E1 ', 'E2 ', 'E3 ']]\n",
    "#df = df1[[ 'C22 ', 'C33 ', 'nu12 ', 'nu13 ', 'nu23 ','mu23 ', 'mu13 ', 'mu12 ', 'E1 ']]\n",
    "df1= df1[['Mesh volume ', 'Rho ', 'C11 ',  'E1 ','E2 ']]\n",
    "df_input=pd.concat([df1,df2],axis=1)\n",
    "# df_input = df_input[['Mesh volume ', 'a','b', 'Rho ','E1 ']]\n",
    "df = df_input\n",
    "df.columns"
   ]
  },
  {
   "cell_type": "code",
   "execution_count": 6,
   "metadata": {},
   "outputs": [
    {
     "data": {
      "image/png": "[encoded data removed]",
      "text/plain": [
       "<Figure size 432x288 with 2 Axes>"
      ]
     },
     "metadata": {
      "needs_background": "light"
     },
     "output_type": "display_data"
    }
   ],
   "source": [
    "\n",
    "# First set of subplot two side by side windows on same row\n",
    "fig, axs = plt.subplots(1, 2, sharey=True, tight_layout=True)\n",
    "axs[0].scatter(df['Rho '],df['E1 '])\n",
    "axs[0].set_xlabel('Rho ')\n",
    "axs[0].set_ylabel('E1 ')\n",
    "axs[0].title.set_text('E1 vs Rho ')\n",
    "axs[0].set_xticks(np.array(df['Rho '])[0::5])\n",
    "axs[0].set_xticklabels(np.array(df['Rho '])[0::5],rotation=45)\n",
    "\n",
    "\n",
    "axs[1].scatter(df['Mesh volume '],df['E1 '])\n",
    "axs[1].set_xlabel('Mesh volume ')\n",
    "axs[1].set_ylabel('E1 ')\n",
    "axs[1].title.set_text('E1 vs Mesh volume ')\n",
    "axs[1].title.set_text('E1 vs Mesh Volume ')\n",
    "axs[1].set_xticks(np.array(df['Mesh volume '])[0::5])\n",
    "axs[1].set_xticklabels(np.array(df['Mesh volume '])[0::5],rotation=45)\n",
    "\n",
    "\n",
    "\n",
    "\n",
    "\n",
    "plt.rcParams['figure.figsize'] = [30, 12]\n",
    "plt.yticks(np.array(df['E1 '])[0::5])\n",
    "\n",
    "\n",
    "\n",
    "plt.show()"
   ]
  },
  {
   "cell_type": "code",
   "execution_count": 7,
   "metadata": {},
   "outputs": [
    {
     "data": {
      "image/png": "[encoded data removed]",
      "text/plain": [
       "<Figure size 2160x864 with 3 Axes>"
      ]
     },
     "metadata": {
      "needs_background": "light"
     },
     "output_type": "display_data"
    }
   ],
   "source": [
    "fig, axs = plt.subplots(1, 3, sharey=True, tight_layout=True)\n",
    "axs[0].scatter(df['a'],df['E1 '])\n",
    "axs[0].set_xlabel('a')\n",
    "axs[0].set_ylabel('E1 ')\n",
    "axs[0].title.set_text('E1 vs a')\n",
    "\n",
    "\n",
    "axs[1].scatter(df['b'],df['E1 '])\n",
    "axs[1].set_xlabel('b')\n",
    "axs[1].set_ylabel('E1 ')\n",
    "axs[1].title.set_text('E1 vs b')\n",
    "\n",
    "axs[2].scatter(df['AR'],df['E1 '])\n",
    "axs[2].set_xlabel('AR')\n",
    "axs[2].set_ylabel('E1 ')\n",
    "axs[2].title.set_text('E1 vs AR')\n",
    "plt.rcParams['figure.figsize'] = [30, 12]\n",
    "plt.yticks(np.array(df['E1 '])[0::5])\n",
    "\n",
    "\n",
    "\n",
    "plt.show()"
   ]
  },
  {
   "cell_type": "markdown",
   "metadata": {
    "cell_id": "24ea2fb8d2ed4f28b2e5ae5ab8796a93",
    "deepnote_cell_height": 130.78125,
    "deepnote_cell_type": "markdown",
    "tags": []
   },
   "source": [
    "## Setting up regression model \n",
    "\n",
    "Assume E1 to be the result.\n",
    "All rows left of it to be components that is analyzed\n",
    "\n",
    "https://towardsdatascience.com/understanding-feature-importance-and-how-to-implement-it-in-python-ff0287b20285"
   ]
  },
  {
   "cell_type": "code",
   "execution_count": 8,
   "metadata": {
    "cell_id": "00004-5f416114-5d64-48a0-bcc4-6fe098414086",
    "deepnote_cell_height": 812,
    "deepnote_cell_type": "code",
    "deepnote_output_heights": [
     607
    ],
    "deepnote_to_be_reexecuted": false,
    "execution_millis": 4237694,
    "execution_start": 1649416696704,
    "source_hash": "c3483a55"
   },
   "outputs": [
    {
     "data": {
      "text/plain": [
       "((40, 4), (40,))"
      ]
     },
     "execution_count": 8,
     "metadata": {},
     "output_type": "execute_result"
    }
   ],
   "source": [
    "df = df_input[['Mesh volume ', 'a','b', 'Rho ','E1 ']]\n",
    "ncol=len(df.columns)-1\n",
    "X = df.iloc[:,0:ncol].values\n",
    "y = df.iloc[:,ncol].values\n",
    "np.shape(X),np.shape(y)\n",
    "\n"
   ]
  },
  {
   "cell_type": "markdown",
   "metadata": {},
   "source": [
    "# Random Forest"
   ]
  },
  {
   "cell_type": "code",
   "execution_count": 9,
   "metadata": {},
   "outputs": [
    {
     "name": "stdout",
     "output_type": "stream",
     "text": [
      "Index(['a', 'b', 'Mesh volume ', 'Rho '], dtype='object') [0.20211156 0.20820474 0.27561959 0.31406411]\n"
     ]
    },
    {
     "data": {
      "image/png": "[encoded data removed]",
      "text/plain": [
       "<Figure size 2160x864 with 1 Axes>"
      ]
     },
     "metadata": {
      "needs_background": "light"
     },
     "output_type": "display_data"
    }
   ],
   "source": [
    "\n",
    "X_train, X_test, y_train, y_test = train_test_split(X, y, test_size=0.25, random_state=42)\n",
    "\n",
    "\n",
    "# scaler = StandardScaler()\n",
    "# scaler.fit(X_train)\n",
    "# X_train = scaler.transform(X_train)\n",
    "# X_test = scaler.transform(X_test)\n",
    "\n",
    "\n",
    "rf = RandomForestRegressor(n_estimators=150)\n",
    "rf.fit(X_train, y_train)\n",
    "sort = rf.feature_importances_.argsort()\n",
    "print(df.columns[sort], rf.feature_importances_[sort])\n",
    "plt.barh(df.columns[sort], rf.feature_importances_[sort])\n",
    "plt.xlabel(\"Feature Importance\")\n",
    "plt.rcParams['figure.figsize'] = [8, 6]\n",
    "plt.show()\n",
    "\n"
   ]
  },
  {
   "cell_type": "markdown",
   "metadata": {},
   "source": [
    "# Linear regression"
   ]
  },
  {
   "cell_type": "code",
   "execution_count": 10,
   "metadata": {},
   "outputs": [
    {
     "name": "stdout",
     "output_type": "stream",
     "text": [
      "Feature: 0, Mesh volume  Score: -1.5524506405867885e-07\n",
      "Feature: 1, a Score: 0.004472414922989746\n",
      "Feature: 2, b Score: 0.5123619633578774\n",
      "Feature: 3, Rho  Score: -1.9409266166124043e-14\n"
     ]
    },
    {
     "data": {
      "image/png": "[encoded data removed]",
      "text/plain": [
       "<Figure size 576x432 with 1 Axes>"
      ]
     },
     "metadata": {
      "needs_background": "light"
     },
     "output_type": "display_data"
    }
   ],
   "source": [
    "# linear regression feature importance\n",
    "df = df[['Mesh volume ', 'a', 'b' ,'Rho ','E1 ']]\n",
    "ncol=len(df.columns)-1\n",
    "X = df.iloc[:,0:ncol].values\n",
    "y = df.iloc[:,ncol].values\n",
    "np.shape(X),np.shape(y)\n",
    "\n",
    "\n",
    "scaler = StandardScaler()\n",
    "scaler.fit(X_train)\n",
    "X_train = scaler.transform(X_train)\n",
    "X_test = scaler.transform(X_test)\n",
    "# define the model\n",
    "lr = LinearRegression()\n",
    "# fit the model\n",
    "lr.fit(X, y)\n",
    "# get importance\n",
    "importance = lr.coef_\n",
    "# summarize feature importance\n",
    "for i,v in enumerate(importance):\n",
    "\tprint(f'Feature: {i}, {df.columns[i]} Score: {v}')\n",
    "# plot feature importance\n",
    "plt.bar([df.columns[x] for x in range(len(importance))], importance)\n",
    "plt.show()"
   ]
  },
  {
   "cell_type": "markdown",
   "metadata": {},
   "source": [
    "# Logistic regression"
   ]
  },
  {
   "cell_type": "code",
   "execution_count": 11,
   "metadata": {},
   "outputs": [
    {
     "name": "stdout",
     "output_type": "stream",
     "text": [
      "Feature: 0, Mesh volume  Score: 2.924500320555063e-08\n",
      "Feature: 1, a Score: 1.7401692614012098e-11\n",
      "Feature: 2, b Score: -8.248072895735676e-13\n",
      "Feature: 3, Rho  Score: 3.655625400693789e-15\n"
     ]
    },
    {
     "data": {
      "image/png": "[encoded data removed]",
      "text/plain": [
       "<Figure size 576x432 with 1 Axes>"
      ]
     },
     "metadata": {
      "needs_background": "light"
     },
     "output_type": "display_data"
    }
   ],
   "source": [
    "\n",
    "lgr = LogisticRegression()\n",
    "# fit the model\n",
    "lgr.fit(X, y)\n",
    "# get importance\n",
    "importance = lgr.coef_[0]\n",
    "# summarize feature importance\n",
    "for i,v in enumerate(importance):\n",
    "\tprint(f'Feature: {i}, {df.columns[i]} Score: {v}')\n",
    "# plot feature importance\n",
    "plt.bar([x for x in range(len(importance))], importance)\n",
    "plt.show()"
   ]
  },
  {
   "cell_type": "markdown",
   "metadata": {},
   "source": [
    "# Decision Tree "
   ]
  },
  {
   "cell_type": "code",
   "execution_count": 12,
   "metadata": {},
   "outputs": [
    {
     "name": "stdout",
     "output_type": "stream",
     "text": [
      "Feature: 0 Mesh volume , Score: 0.33284524063224913\n",
      "Feature: 1 a, Score: 0.064686926687274\n",
      "Feature: 2 b, Score: 0.13996027055067373\n",
      "Feature: 3 Rho , Score: 0.4625075621298032\n"
     ]
    },
    {
     "data": {
      "image/png": "[encoded data removed]",
      "text/plain": [
       "<Figure size 576x432 with 1 Axes>"
      ]
     },
     "metadata": {
      "needs_background": "light"
     },
     "output_type": "display_data"
    }
   ],
   "source": [
    "\"\"\"decision tree for feature importance on a regression problem\"\"\"\n",
    "\n",
    "dtr = DecisionTreeRegressor()\n",
    "# fit the model\n",
    "dtr.fit(X, y)\n",
    "# get importance\n",
    "importance = dtr.feature_importances_\n",
    "# summarize feature importance\n",
    "for i,v in enumerate(importance):\n",
    "\tprint(f'Feature: {i} {df.columns[i]}, Score: {v}' )\n",
    "# plot feature importance\n",
    "plt.bar([x for x in range(len(importance))], importance)\n",
    "plt.show()\n",
    "\n"
   ]
  },
  {
   "cell_type": "code",
   "execution_count": 13,
   "metadata": {},
   "outputs": [
    {
     "name": "stdout",
     "output_type": "stream",
     "text": [
      "Index(['a', 'b', 'Mesh volume ', 'Rho '], dtype='object') [0.06468693 0.13996027 0.33284524 0.46250756]\n"
     ]
    },
    {
     "data": {
      "text/plain": [
       "Text(0.5, 0, 'Feature Importance')"
      ]
     },
     "execution_count": 13,
     "metadata": {},
     "output_type": "execute_result"
    },
    {
     "data": {
      "image/png": "[encoded data removed]",
      "text/plain": [
       "<Figure size 576x432 with 1 Axes>"
      ]
     },
     "metadata": {
      "needs_background": "light"
     },
     "output_type": "display_data"
    }
   ],
   "source": [
    "sort = dtr.feature_importances_.argsort()\n",
    "print(df.columns[sort], dtr.feature_importances_[sort])\n",
    "\n",
    "plt.barh(df.columns[sort], dtr.feature_importances_[sort])\n",
    "plt.xlabel(\"Feature Importance\")"
   ]
  },
  {
   "cell_type": "code",
   "execution_count": null,
   "metadata": {},
   "outputs": [],
   "source": []
  },
  {
   "cell_type": "code",
   "execution_count": null,
   "metadata": {},
   "outputs": [],
   "source": []
  }
 ],
 "metadata": {
  "deepnote": {
   "is_reactive": false
  },
  "deepnote_execution_queue": [],
  "deepnote_notebook_id": "3dd35978-3ae0-496e-8a9a-e21251987aa9",
  "interpreter": {
   "hash": "e55666fbbf217aa3df372b978577f47b6009e2f78e2ec76a584f49cd54a1e62c"
  },
  "kernelspec": {
   "display_name": "Python 2.7.18 64-bit",
   "language": "python",
   "name": "python3"
  },
  "language_info": {
   "codemirror_mode": {
    "name": "ipython",
    "version": 3
   },
   "file_extension": ".py",
   "mimetype": "text/x-python",
   "name": "python",
   "nbconvert_exporter": "python",
   "pygments_lexer": "ipython3",
   "version": "3.8.10"
  },
  "orig_nbformat": 2
 },
 "nbformat": 4,
 "nbformat_minor": 2
}
